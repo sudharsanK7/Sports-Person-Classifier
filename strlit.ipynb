{
 "cells": [
  {
   "cell_type": "code",
   "execution_count": 1,
   "id": "30acd64f",
   "metadata": {},
   "outputs": [],
   "source": [
    "import streamlit as st\n",
    "import tensorflow as tf\n",
    "from tensorflow.keras.applications.imagenet_utils import decode_predictions\n",
    "import cv2\n",
    "from PIL import Image, ImageOps\n",
    "import numpy as np\n",
    "import matplotlib\n",
    "from matplotlib import pyplot as plt\n",
    "import os\n",
    "import pickle\n",
    "import import_ipynb\n",
    "import pywt\n",
    "import json\n",
    "import imageio.v2 as imageio\n",
    "import base64\n",
    "import pandas as pd"
   ]
  },
  {
   "cell_type": "code",
   "execution_count": 2,
   "id": "caeb4703",
   "metadata": {},
   "outputs": [],
   "source": [
    "face_cascade = cv2.CascadeClassifier('./opencv/haarcascades/haarcascade_frontalface_default.xml')\n",
    "eye_cascade = cv2.CascadeClassifier('./opencv/haarcascades/haarcascade_eye.xml')"
   ]
  },
  {
   "cell_type": "code",
   "execution_count": 3,
   "id": "14b8f08e",
   "metadata": {},
   "outputs": [],
   "source": [
    "pik = open(\"./classifier.pkl\",\"rb\")\n",
    "classifier = pickle.load(pik)"
   ]
  },
  {
   "cell_type": "code",
   "execution_count": 4,
   "id": "27998d05",
   "metadata": {},
   "outputs": [],
   "source": [
    "def w2d(img, mode='haar', level=1):\n",
    "    imArray = img\n",
    "    #Datatype conversions\n",
    "    #convert to grayscale\n",
    "    imArray = cv2.cvtColor(imArray,cv2.COLOR_RGB2GRAY )\n",
    "    #convert to float\n",
    "    imArray =  np.float32(imArray)   \n",
    "    imArray /= 255;\n",
    "    # compute coefficients \n",
    "    coeffs=pywt.wavedec2(imArray, mode, level=level)\n",
    "\n",
    "    #Process Coefficients\n",
    "    coeffs_H=list(coeffs)  \n",
    "    coeffs_H[0] *= 0;  \n",
    "\n",
    "    # reconstruction\n",
    "    imArray_H=pywt.waverec2(coeffs_H, mode);\n",
    "    imArray_H *= 255;\n",
    "    imArray_H =  np.uint8(imArray_H)\n",
    "\n",
    "    return imArray_H"
   ]
  },
  {
   "cell_type": "code",
   "execution_count": 5,
   "id": "b8f3cf7b",
   "metadata": {},
   "outputs": [],
   "source": [
    "with open('./class_dictionary.json') as json_file:\n",
    "    class_dict = json.load(json_file) \n",
    "class_dict2 = {value:key for key, value in class_dict.items()}"
   ]
  },
  {
   "cell_type": "code",
   "execution_count": 6,
   "id": "99cb3dbe",
   "metadata": {},
   "outputs": [],
   "source": [
    "RMD = {\n",
    "    'Name' : ['david_alaba','fede_valverde','karim_benzema','luka_modric','toni_kroos'],\n",
    "    'Goals' : ['1','0', '15', '0', '2'],\n",
    "    'Assist' : ['1','1', '1', '4', '0']\n",
    "}\n",
    "\n",
    "df = pd.DataFrame(RMD)\n",
    "dft = df.T"
   ]
  },
  {
   "cell_type": "code",
   "execution_count": 7,
   "id": "3fbf0053",
   "metadata": {},
   "outputs": [],
   "source": [
    "def image_opening(u8):\n",
    "    my_string = base64.b64encode(u8)\n",
    "    return my_string"
   ]
  },
  {
   "cell_type": "code",
   "execution_count": 8,
   "id": "d2a2173b",
   "metadata": {},
   "outputs": [],
   "source": [
    "def get_cv2_image_from_base64_string(b64str):\n",
    "    nparr = np.frombuffer(base64.b64decode(b64str), dtype='B')\n",
    "    img = cv2.imdecode(nparr, cv2.IMREAD_COLOR)\n",
    "    return img"
   ]
  },
  {
   "cell_type": "code",
   "execution_count": 9,
   "id": "8b67cfef",
   "metadata": {},
   "outputs": [],
   "source": [
    "def get_cropped_image_if_2_eyes(image_path):\n",
    "    gray = cv2.cvtColor(image_path, cv2.COLOR_BGR2GRAY)\n",
    "    faces = face_cascade.detectMultiScale(gray, 1.3, 5)\n",
    "    for (x,y,w,h) in faces:\n",
    "        roi_gray = gray[y:y+h, x:x+w]\n",
    "        roi_color = image_path[y:y+h, x:x+w]\n",
    "        eyes = eye_cascade.detectMultiScale(roi_gray)\n",
    "        if len(eyes) >= 2:\n",
    "            return roi_color"
   ]
  },
  {
   "cell_type": "code",
   "execution_count": 10,
   "id": "887c0075",
   "metadata": {},
   "outputs": [],
   "source": [
    "def increase_brightness(img, value=30):\n",
    "    hsv = cv2.cvtColor(img, cv2.COLOR_BGR2HSV)\n",
    "    h, s, v = cv2.split(hsv)\n",
    "\n",
    "    lim = 255 - value\n",
    "    v[v > lim] = 255\n",
    "    v[v <= lim] += value\n",
    "\n",
    "    final_hsv = cv2.merge((h, s, v))\n",
    "    img = cv2.cvtColor(final_hsv, cv2.COLOR_HSV2BGR)\n",
    "    return img"
   ]
  },
  {
   "cell_type": "code",
   "execution_count": 11,
   "id": "0d155fc3",
   "metadata": {},
   "outputs": [],
   "source": [
    "def finale(strin):\n",
    "    image_in = get_cv2_image_from_base64_string(strin)\n",
    "    resultim = increase_brightness(image_in, value=20)\n",
    "    imag = get_cropped_image_if_2_eyes(resultim)\n",
    "    scalled_raw_img = cv2.resize(imag, (32, 32))\n",
    "    img_har = w2d(imag,'db1',5)\n",
    "    scalled_img_har = cv2.resize(img_har, (32, 32))\n",
    "    combined_img = np.vstack((scalled_raw_img.reshape(32*32*3,1),scalled_img_har.reshape(32*32,1)))\n",
    "    restacked_img = np.array(combined_img).reshape(1,4096).astype(float)\n",
    "    prediction=classifier.predict(restacked_img)\n",
    "    predi = (int(prediction))\n",
    "    return predi"
   ]
  },
  {
   "cell_type": "code",
   "execution_count": 12,
   "id": "5cb68bce",
   "metadata": {},
   "outputs": [
    {
     "name": "stderr",
     "output_type": "stream",
     "text": [
      "2022-11-21 13:41:14.605 \n",
      "  \u001b[33m\u001b[1mWarning:\u001b[0m to view this Streamlit app on a browser, run it with the following\n",
      "  command:\n",
      "\n",
      "    streamlit run C:\\ProgramData\\Anaconda3\\lib\\site-packages\\ipykernel_launcher.py [ARGUMENTS]\n"
     ]
    }
   ],
   "source": [
    "def main():\n",
    "    st.image(\"https://upload.wikimedia.org/wikipedia/en/thumb/5/56/Real_Madrid_CF.svg/800px-Real_Madrid_CF.svg.png\", width=100)\n",
    "    st.title(\"Real Madrid UCL 21-22 Players Classification\")\n",
    "    html_temp = \"\"\"\n",
    "    <div style=\"background-color:white;padding:10px\">\n",
    "    <h2 style=\"color:gold;text-align:center;\">Know Your Players </h2>\n",
    "    </div>\n",
    "    \"\"\"\n",
    "    st.markdown(html_temp,unsafe_allow_html=True)\n",
    "    file_in = st.file_uploader(\"Please upload an brain scan file\", type=[\"jpg\", \"png\"])\n",
    "    if file_in is None:\n",
    "        st.text(\"Please upload an image file\")\n",
    "    else:\n",
    "        bytes_data = file_in.getvalue()\n",
    "        file64 = image_opening(bytes_data)\n",
    "        result=\"\"\n",
    "    if st.button(\"Predict\"):\n",
    "        result=finale(file64)\n",
    "        if result is not None:\n",
    "            st.dataframe(dft[:][result])\n",
    "        else:\n",
    "            st.error('Upload some other photo')\n",
    "\n",
    "\n",
    "if __name__ == '__main__':\n",
    "    main()"
   ]
  },
  {
   "cell_type": "code",
   "execution_count": null,
   "id": "d014504d",
   "metadata": {},
   "outputs": [],
   "source": []
  }
 ],
 "metadata": {
  "kernelspec": {
   "display_name": "Python 3 (ipykernel)",
   "language": "python",
   "name": "python3"
  },
  "language_info": {
   "codemirror_mode": {
    "name": "ipython",
    "version": 3
   },
   "file_extension": ".py",
   "mimetype": "text/x-python",
   "name": "python",
   "nbconvert_exporter": "python",
   "pygments_lexer": "ipython3",
   "version": "3.9.13"
  }
 },
 "nbformat": 4,
 "nbformat_minor": 5
}
